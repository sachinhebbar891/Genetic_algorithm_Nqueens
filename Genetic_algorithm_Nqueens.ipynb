{
  "nbformat": 4,
  "nbformat_minor": 0,
  "metadata": {
    "colab": {
      "provenance": []
    },
    "kernelspec": {
      "name": "python3",
      "display_name": "Python 3"
    },
    "language_info": {
      "name": "python"
    }
  },
  "cells": [
    {
      "cell_type": "code",
      "execution_count": 1,
      "metadata": {
        "id": "QYn94iZF24wq"
      },
      "outputs": [],
      "source": [
        "# importing required packages\n",
        "import numpy as np\n",
        "import random\n",
        "import matplotlib.pyplot as plt\n",
        "import seaborn as sns\n",
        "import time"
      ]
    },
    {
      "cell_type": "code",
      "source": [
        "# N is the number of rows or number of columns of the chess board (NxN)\n",
        "N = int(input(\"Enter the N value:\"))"
      ],
      "metadata": {
        "colab": {
          "base_uri": "https://localhost:8080/"
        },
        "id": "-JTDXzIa266m",
        "outputId": "9cf7f8d8-ab39-4adf-8e3e-9e16c69de2c0"
      },
      "execution_count": 95,
      "outputs": [
        {
          "name": "stdout",
          "output_type": "stream",
          "text": [
            "Enter the N value:8\n"
          ]
        }
      ]
    },
    {
      "cell_type": "markdown",
      "source": [
        "One of the right answers for N= 8 is shown below"
      ],
      "metadata": {
        "id": "e1ri-hqhAvX1"
      }
    },
    {
      "cell_type": "markdown",
      "source": [
        "![image.png](data:image/png;base64,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)"
      ],
      "metadata": {
        "id": "D9kqOcX5AP6b"
      }
    },
    {
      "cell_type": "code",
      "source": [
        "# randomly initializing the queen positions\n",
        "def initialization(N,s=4):\n",
        "    initial_solutions = []\n",
        "    iter=0\n",
        "    while iter < s:\n",
        "        iter+=1\n",
        "        solution = [random.choice(range(0,N)) for i in range(0,N)]\n",
        "        initial_solutions.append(solution)\n",
        "    return initial_solutions\n",
        "\n",
        "# the above function initializes multiple sets of initial queen positions\n",
        "# Let's say one set of queen position is [5,4,1,3,5,6,6,1] for N=8\n",
        "# This means queen on the first column is in the 6th row (as we start counting from 0, 5 would be the 6th row)\n",
        "# Queen in the second column is in the 5th row and so on until last column's queen is in the 2nd row\n",
        "# Note that this randomly initialized queen position is not a solution as two queens are on the same row (6th and 7th column, therefore they are in attack position)\n",
        "\n",
        "# visualizing the chromosome in the chess board format\n",
        "def visualize(chromosome,N):\n",
        "    empty_list = []\n",
        "    [empty_list.append([' ']*N) for i in range(0,N)]\n",
        "\n",
        "    for index,elem in enumerate(chromosome):\n",
        "        empty_list[elem][index]='Q'\n",
        "\n",
        "    return empty_list\n",
        "\n",
        "# calculating the fitness value\n",
        "def fitness_val(chromosome, N):\n",
        "    fitness_value = 0\n",
        "\n",
        "    for i in range(0, N):\n",
        "        for j in range(i+1, N):\n",
        "          # if the difference is 0 then the pair of queen is in the same row, if the difference is abs(i-j) then they are diagonally attacking\n",
        "          # we dont have to worry about queens being in the same column, because of the way the chromosomes are initialized, two queens will never be in the same column\n",
        "            if abs(chromosome[i] - chromosome[j]) not in [0, abs(i-j)]:\n",
        "                fitness_value += 1\n",
        "\n",
        "    return fitness_value\n",
        "\n",
        "# checking if we reached the goal or not\n",
        "def goal_check(fitness_value, max_fitness_value):\n",
        "    return fitness_value == max_fitness_value\n",
        "\n",
        "# roulette wheel selection\n",
        "# higher probability of selecting parents that have higher fitness\n",
        "def roulette_wheel_selection(population, fitness_values):\n",
        "      selection = []\n",
        "      total_fitness = sum(fitness_values)\n",
        "      probs = [f/total_fitness for f in fitness_values]\n",
        "\n",
        "      for i in range(len(population)):\n",
        "          selection.append(random.choices(population, weights=probs, k=1)[0])\n",
        "\n",
        "      return selection\n",
        "\n",
        "# tournament selection - this may help if you are looking for diverse solutions (more exploration)\n",
        "# it takes a small subset of the population and finds the fit individual from that subset - it repeats this multiple times to do the selection process\n",
        "def tournament_selection(population, fitness_values, tournament_size):\n",
        "    selection = []\n",
        "    for i in range(len(population)):\n",
        "        tournament_indices = random.sample(range(0, len(population)), tournament_size)\n",
        "        tournament_fitness = [fitness_values[index] for index in tournament_indices]\n",
        "        tournament_population = [population[index] for index in tournament_indices]\n",
        "        winner = tournament_population[tournament_fitness.index(max(tournament_fitness))]\n",
        "        selection.append(winner)\n",
        "\n",
        "    return selection\n",
        "\n",
        "# uniform crossover is creating children by using a probability of 50% of picking genes from either of the parents\n",
        "# uniform crossover may help with diverse solutions\n",
        "def uniform_crossover(selection):\n",
        "    children = []\n",
        "    for i in range(0, len(selection) - 1, 2):\n",
        "        parent1 = selection[i]\n",
        "        parent2 = selection[i+1]\n",
        "        child1 = []\n",
        "        child2 = []\n",
        "        for j in range(len(parent1)):\n",
        "            if random.random() < 0.5:\n",
        "                child1.append(parent1[j])\n",
        "                child2.append(parent2[j])\n",
        "\n",
        "            else:\n",
        "                child1.append(parent2[j])\n",
        "                child2.append(parent1[j])\n",
        "\n",
        "        children.append(child1)\n",
        "        children.append(child2)\n",
        "\n",
        "    return children\n",
        "\n",
        "# another form of crossover\n",
        "# ex: [a,b,c,d,e,f] and [x,y,z,p,q,r] let's say the crossover point is after 3rd element\n",
        "# then children are [a,b,c,p,r,r] and [x,y,z,d,e,f]\n",
        "def single_point_crossover(selection, crossover_rate):\n",
        "    children = []\n",
        "    for i in range(0, len(selection) - 1, 2):\n",
        "        parent1 = selection[i]\n",
        "        parent2 = selection[i+1]\n",
        "\n",
        "        if random.random() > crossover_rate:\n",
        "\n",
        "          k = random.randint(1, len(parent1) - 1)\n",
        "          child1 = parent1[:k] + parent2[k:]\n",
        "          child2 = parent2[:k] + parent1[k:]\n",
        "\n",
        "        else:\n",
        "          child1 = parent1.copy()\n",
        "          child2 = parent2.copy()\n",
        "\n",
        "        children.append(child1)\n",
        "        children.append(child2)\n",
        "\n",
        "    return children\n",
        "\n",
        "# randomly changing the position of one of the gene to mimic mutation\n",
        "def mutation(children, mutation_rate, N):\n",
        "    mutated_children = []\n",
        "    for i in range(len(children)):\n",
        "        child = children[i]\n",
        "        if random.random() > 1 - mutation_rate:\n",
        "            index = random.randint(0, len(child) - 1)\n",
        "            if child[index] == 0:\n",
        "                child[index] = 1\n",
        "            elif child[index] == N-1:\n",
        "                child[index] = N - 2\n",
        "            else:\n",
        "                child[index] = random.choice([child[index] - 1, child[index] + 1])\n",
        "            mutated_children.append(child)\n",
        "        else:\n",
        "            mutated_children.append(child)\n",
        "\n",
        "    return mutated_children"
      ],
      "metadata": {
        "id": "YbMWlzSO3JSH"
      },
      "execution_count": 96,
      "outputs": []
    },
    {
      "cell_type": "code",
      "source": [
        "# visualizing how the initial population would look like\n",
        "# creating only two chromosomes\n",
        "population = initialization(7, 2)\n",
        "print(population)\n",
        "res = []\n",
        "for chromosome in population:\n",
        "    res.append(visualize(chromosome, 7))"
      ],
      "metadata": {
        "colab": {
          "base_uri": "https://localhost:8080/"
        },
        "id": "czIqP72wD5zW",
        "outputId": "59570ec4-4b83-46af-84e6-931038b78daf"
      },
      "execution_count": 108,
      "outputs": [
        {
          "output_type": "stream",
          "name": "stdout",
          "text": [
            "[[5, 0, 0, 4, 5, 5, 1], [6, 2, 4, 5, 2, 5, 4]]\n"
          ]
        }
      ]
    },
    {
      "cell_type": "code",
      "source": [
        "# visualizing the first chromosome\n",
        "res[0]"
      ],
      "metadata": {
        "colab": {
          "base_uri": "https://localhost:8080/"
        },
        "id": "chjdKjMuEUpO",
        "outputId": "72304dad-d17d-4184-edc7-af2e8fe2e9b9"
      },
      "execution_count": 109,
      "outputs": [
        {
          "output_type": "execute_result",
          "data": {
            "text/plain": [
              "[[' ', 'Q', 'Q', ' ', ' ', ' ', ' '],\n",
              " [' ', ' ', ' ', ' ', ' ', ' ', 'Q'],\n",
              " [' ', ' ', ' ', ' ', ' ', ' ', ' '],\n",
              " [' ', ' ', ' ', ' ', ' ', ' ', ' '],\n",
              " [' ', ' ', ' ', 'Q', ' ', ' ', ' '],\n",
              " ['Q', ' ', ' ', ' ', 'Q', 'Q', ' '],\n",
              " [' ', ' ', ' ', ' ', ' ', ' ', ' ']]"
            ]
          },
          "metadata": {},
          "execution_count": 109
        }
      ]
    },
    {
      "cell_type": "code",
      "source": [
        "# visualizing the second chromosome\n",
        "res[1]"
      ],
      "metadata": {
        "colab": {
          "base_uri": "https://localhost:8080/"
        },
        "id": "xYPDt2eJEXD3",
        "outputId": "369fd257-5321-4894-d7c1-b3e735e99b60"
      },
      "execution_count": 110,
      "outputs": [
        {
          "output_type": "execute_result",
          "data": {
            "text/plain": [
              "[[' ', ' ', ' ', ' ', ' ', ' ', ' '],\n",
              " [' ', ' ', ' ', ' ', ' ', ' ', ' '],\n",
              " [' ', 'Q', ' ', ' ', 'Q', ' ', ' '],\n",
              " [' ', ' ', ' ', ' ', ' ', ' ', ' '],\n",
              " [' ', ' ', 'Q', ' ', ' ', ' ', 'Q'],\n",
              " [' ', ' ', ' ', 'Q', ' ', 'Q', ' '],\n",
              " ['Q', ' ', ' ', ' ', ' ', ' ', ' ']]"
            ]
          },
          "metadata": {},
          "execution_count": 110
        }
      ]
    },
    {
      "cell_type": "code",
      "source": [
        "# checking if fitness value works correctly or not\n",
        "chromosome = [6, 4, 2, 0, 5, 3, 1] # one of the solutions for N=7\n",
        "# answer should be 21 (7*6/2)\n",
        "fitness_val(chromosome, 7)"
      ],
      "metadata": {
        "colab": {
          "base_uri": "https://localhost:8080/"
        },
        "id": "r3uVmrqd7hNh",
        "outputId": "792909a7-ec8b-4018-c3d9-8dfc51aa2bbe"
      },
      "execution_count": 97,
      "outputs": [
        {
          "output_type": "execute_result",
          "data": {
            "text/plain": [
              "21"
            ]
          },
          "metadata": {},
          "execution_count": 97
        }
      ]
    },
    {
      "cell_type": "code",
      "source": [
        "# performing genetic algorithm - currently only using roulette wheel selection, single point crossover\n",
        "def genetic_algorithm(N, max_fitness_value, chrom_count, mutation_rate, crossover_rate, max_iter, window_size, tournament_size):\n",
        "    # creating initial population\n",
        "    population = initialization(N, chrom_count)\n",
        "    best_fitness = []\n",
        "    # running the fitness calculation, selection, crossover, mutation process for multiple times\n",
        "    for i in range(max_iter):\n",
        "        # calculating fitness for each chromosome in the population\n",
        "        fitness_values = [fitness_val(chromosome, N) for chromosome in population]\n",
        "        # pushing the best fitness to the list\n",
        "        best_fitness.append(max(fitness_values))\n",
        "\n",
        "        # checking if any of the chromosome has the maximum fitness or not\n",
        "        # if maximum fitness is reached then we reached the goal and we can visualize the results\n",
        "        for index, fitness_value in enumerate(fitness_values):\n",
        "            if goal_check(fitness_value, max_fitness_value):\n",
        "                print(\"Goal reached\")\n",
        "                res = visualize(population[index], N)\n",
        "                return res, best_fitness\n",
        "\n",
        "        # if we didn't reach the goal, then perform selection operation, then crossover, then mutation and repeat the whole process until goal is reached\n",
        "        selection = roulette_wheel_selection(population, fitness_values)\n",
        "        # selection = tournament_selection(population, fitness_values, tournament_size)\n",
        "        children = single_point_crossover(selection, crossover_rate)\n",
        "        # children = uniform_crossover(selection)\n",
        "        mutated_children = mutation(children, mutation_rate, N)\n",
        "        population = mutated_children.copy()\n",
        "\n",
        "    # if we never reached the goal then print this\n",
        "    if i == max_iter - 1:\n",
        "        print(\"Goal not reached\")\n",
        "\n",
        "    return 0, best_fitness"
      ],
      "metadata": {
        "id": "ZF6byJhj3Oli"
      },
      "execution_count": 98,
      "outputs": []
    },
    {
      "cell_type": "code",
      "source": [
        "max_fitness_value = N*(N-1)/2\n",
        "print(\"Max possible fitness value:\", max_fitness_value)\n",
        "res, best_fitness = genetic_algorithm(N, max_fitness_value, 12, 0.2, 1, 10000, 10, 4)"
      ],
      "metadata": {
        "colab": {
          "base_uri": "https://localhost:8080/"
        },
        "id": "kesQjlSX3fOr",
        "outputId": "daf162db-a8c6-48f9-e8ab-87615adb61b5"
      },
      "execution_count": 100,
      "outputs": [
        {
          "output_type": "stream",
          "name": "stdout",
          "text": [
            "Max possible fitness value: 28.0\n",
            "Goal reached\n"
          ]
        }
      ]
    },
    {
      "cell_type": "code",
      "source": [
        "res"
      ],
      "metadata": {
        "colab": {
          "base_uri": "https://localhost:8080/"
        },
        "id": "VIko_Fex-lZA",
        "outputId": "db3977c2-b82d-4b2c-cdea-fd1e0cfd5821"
      },
      "execution_count": 101,
      "outputs": [
        {
          "output_type": "execute_result",
          "data": {
            "text/plain": [
              "[[' ', ' ', 'Q', ' ', ' ', ' ', ' ', ' '],\n",
              " ['Q', ' ', ' ', ' ', ' ', ' ', ' ', ' '],\n",
              " [' ', ' ', ' ', ' ', ' ', ' ', 'Q', ' '],\n",
              " [' ', ' ', ' ', ' ', 'Q', ' ', ' ', ' '],\n",
              " [' ', ' ', ' ', ' ', ' ', ' ', ' ', 'Q'],\n",
              " [' ', 'Q', ' ', ' ', ' ', ' ', ' ', ' '],\n",
              " [' ', ' ', ' ', 'Q', ' ', ' ', ' ', ' '],\n",
              " [' ', ' ', ' ', ' ', ' ', 'Q', ' ', ' ']]"
            ]
          },
          "metadata": {},
          "execution_count": 101
        }
      ]
    },
    {
      "cell_type": "code",
      "source": [
        "max(best_fitness)"
      ],
      "metadata": {
        "colab": {
          "base_uri": "https://localhost:8080/"
        },
        "id": "UJM3LSSG9miz",
        "outputId": "0db761d5-00c9-45c0-bccf-93d2f8e40435"
      },
      "execution_count": 102,
      "outputs": [
        {
          "output_type": "execute_result",
          "data": {
            "text/plain": [
              "28"
            ]
          },
          "metadata": {},
          "execution_count": 102
        }
      ]
    },
    {
      "cell_type": "code",
      "source": [
        "x_values = range(len(best_fitness))\n",
        "\n",
        "# Create a line plot\n",
        "plt.plot(x_values, best_fitness, marker='o', linestyle='-', color='b', label='Best Fitness in each iteration')\n",
        "\n",
        "# Add title and labels\n",
        "plt.title('Line Chart Example')\n",
        "plt.xlabel('Iteration')\n",
        "plt.ylabel('Fitness value')\n",
        "\n",
        "# Show a legend\n",
        "plt.legend()\n",
        "\n",
        "# Display the plot\n",
        "plt.show()"
      ],
      "metadata": {
        "colab": {
          "base_uri": "https://localhost:8080/",
          "height": 472
        },
        "id": "fiMmPJCP3zWj",
        "outputId": "a2fd9ddd-379b-4297-e4d1-da2f40713484"
      },
      "execution_count": 103,
      "outputs": [
        {
          "output_type": "display_data",
          "data": {
            "text/plain": [
              "<Figure size 640x480 with 1 Axes>"
            ],
            "image/png": "[encoded data removed]"
          },
          "metadata": {}
        }
      ]
    },
    {
      "cell_type": "code",
      "source": [],
      "metadata": {
        "id": "gkrpDNDWAtqe"
      },
      "execution_count": null,
      "outputs": []
    }
  ]
}